{
  "cells": [
    {
      "cell_type": "markdown",
      "metadata": {},
      "source": [
        "# Demo: Extracción de Beneficiarios Finales\n",
        "\n",
        "Este cuaderno muestra cómo descargar 50 PDFs públicos de beneficiarios finales, ejecutar OCR para extraer RUT y porcentajes, y consolidar los resultados."
      ]
    },
    {
      "cell_type": "markdown",
      "metadata": {},
      "source": [
        "## 1. Dependencias\n",
        "Instala las librerías necesarias si aún no están presentes en tu entorno (ejecuta solo una vez)."
      ]
    },
    {
      "cell_type": "code",
      "execution_count": null,
      "metadata": {},
      "outputs": [],
      "source": [
        "# !pip install --quiet pymupdf pillow pytesseract requests pandas"
      ]
    },
    {
      "cell_type": "markdown",
      "metadata": {},
      "source": [
        "## 2. Configuración de carpetas\n",
        "Actualiza las rutas según tu estructura en Databricks o local."
      ]
    },
    {
      "cell_type": "code",
      "execution_count": null,
      "metadata": {},
      "outputs": [],
      "source": [
        "from pathlib import Path\n",
        "\n",
        "from beneficiarios_finales_pipeline import (\n",
        "    download_public_beneficiary_pdfs,\n",
        "    extract_beneficiarios_from_pdf,\n",
        "    consolidar_resultados,\n",
        ")\n",
        "\n",
        "PROJECT_ROOT = Path.cwd()\n",
        "PDF_FOLDER = PROJECT_ROOT / \"data\" / \"pdfs_publicos\"\n",
        "IMAGES_FOLDER = PROJECT_ROOT / \"data\" / \"imagenes\"\n",
        "PDF_FOLDER.mkdir(parents=True, exist_ok=True)\n",
        "IMAGES_FOLDER.mkdir(parents=True, exist_ok=True)"
      ]
    },
    {
      "cell_type": "markdown",
      "metadata": {},
      "source": [
        "## 3. Descarga de PDFs públicos\n",
        "El siguiente bloque intenta recolectar hasta 50 PDFs desde la Comisión para el Mercado Financiero (CMF) de Chile.\n",
        "Puedes ajustar `catalog_urls` si deseas otras fuentes públicas."
      ]
    },
    {
      "cell_type": "code",
      "execution_count": null,
      "metadata": {},
      "outputs": [],
      "source": [
        "sample_pdfs = download_public_beneficiary_pdfs(\n",
        "    destination=PDF_FOLDER,\n",
        "    limit=50,\n",
        "    catalog_urls=None,  # Reemplaza por una lista de URLs si tienes un catálogo específico.\n",
        ")\n",
        "len(sample_pdfs), sample_pdfs[:3]"
      ]
    },
    {
      "cell_type": "markdown",
      "metadata": {},
      "source": [
        "## 4. Extracción OCR\n",
        "Convertimos cada PDF en imágenes, aplicamos OCR y consolidamos los resultados en un `DataFrame`."
      ]
    },
    {
      "cell_type": "code",
      "execution_count": null,
      "metadata": {},
      "outputs": [],
      "source": [
        "resultados = []\n",
        "for pdf_path in sample_pdfs:\n",
        "    resultados.extend(\n",
        "        extract_beneficiarios_from_pdf(\n",
        "            pdf_path=pdf_path,\n",
        "            output_root=IMAGES_FOLDER,\n",
        "            dpi=200,\n",
        "            lang=\"spa\",\n",
        "        )\n",
        "    )\n",
        "\n",
        "df_resultados = consolidar_resultados(resultados)\n",
        "df_resultados.head()"
      ]
    },
    {
      "cell_type": "markdown",
      "metadata": {},
      "source": [
        "## 5. Exportar y validar\n",
        "En esta sección puedes guardar los resultados en Databricks o validarlos manualmente."
      ]
    },
    {
      "cell_type": "code",
      "execution_count": null,
      "metadata": {},
      "outputs": [],
      "source": [
        "# Ejemplo de exportación local.\n",
        "# df_resultados.to_csv(PROJECT_ROOT / \"data\" / \"resultado_beneficiarios.csv\", index=False)\n",
        "df_resultados.sample(min(len(df_resultados), 10))"
      ]
    }
  ],
  "metadata": {
    "kernelspec": {
      "display_name": "Python 3",
      "language": "python",
      "name": "python3"
    },
    "language_info": {
      "name": "python",
      "version": "3.x"
    }
  },
  "nbformat": 4,
  "nbformat_minor": 5
}